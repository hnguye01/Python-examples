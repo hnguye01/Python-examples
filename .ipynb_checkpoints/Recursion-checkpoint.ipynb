{
 "cells": [
  {
   "cell_type": "markdown",
   "metadata": {},
   "source": [
    "### Find summation from 1 to n  \n",
    "Recursive formula:  $sum(n) = n + sum(n-1)$.  \n",
    "Base $sum(1) = 1$. "
   ]
  },
  {
   "cell_type": "code",
   "execution_count": 1,
   "metadata": {},
   "outputs": [],
   "source": [
    "def sum_recursion(n:int) ->int:\n",
    "    #Base\n",
    "    if n ==1:\n",
    "        return 1\n",
    "    #Recursive case\n",
    "    else:\n",
    "        return n+ sum_recursion(n-1)"
   ]
  },
  {
   "cell_type": "code",
   "execution_count": 2,
   "metadata": {},
   "outputs": [
    {
     "name": "stdout",
     "output_type": "stream",
     "text": [
      "sum(1) =  1\n",
      "sum(5) =  15\n"
     ]
    }
   ],
   "source": [
    "print('sum(1) = ', sum_recursion(1))\n",
    "print('sum(5) = ', sum_recursion(5))"
   ]
  },
  {
   "cell_type": "markdown",
   "metadata": {},
   "source": [
    "### Find products from 1 to n (n factorial)  \n",
    "Recursive formula: $n!=n*(n-1)!$.    \n",
    "Base:$ 1! =1$.  \n",
    "(Remember $0!=1$.)"
   ]
  },
  {
   "cell_type": "code",
   "execution_count": 3,
   "metadata": {},
   "outputs": [],
   "source": [
    "def factorial_recursion(n:int) -> int:\n",
    "    #Base\n",
    "    if n==0 or n==1:\n",
    "        return 1\n",
    "    #Recursive case\n",
    "    else:\n",
    "        return n*factorial_recursion(n-1)"
   ]
  },
  {
   "cell_type": "code",
   "execution_count": 4,
   "metadata": {},
   "outputs": [
    {
     "name": "stdout",
     "output_type": "stream",
     "text": [
      "0! =  1\n",
      "1! =  1\n",
      "5! =  120\n"
     ]
    }
   ],
   "source": [
    "print('0! = ', factorial_recursion(0))\n",
    "print('1! = ', factorial_recursion(1))\n",
    "print('5! = ', factorial_recursion(5))"
   ]
  },
  {
   "cell_type": "markdown",
   "metadata": {},
   "source": [
    "### Find $n^{th}$ Fibonacci number\n",
    "Recursive formula: $F(n) = F(n-1) + F(n-2)$.  \n",
    "Base: $F(0) = 0, F(1) = 1.$  "
   ]
  },
  {
   "cell_type": "code",
   "execution_count": 5,
   "metadata": {},
   "outputs": [],
   "source": [
    "def Fibonacci_recursion(nth: int) -> int:\n",
    "    #Base\n",
    "    if nth == 0:\n",
    "        return 0\n",
    "    elif nth ==1:\n",
    "        return 1\n",
    "    #Recursive case\n",
    "    else:\n",
    "        return Fibonacci_recursion(nth-1)+Fibonacci_recursion(nth-2)"
   ]
  },
  {
   "cell_type": "code",
   "execution_count": 6,
   "metadata": {},
   "outputs": [
    {
     "name": "stdout",
     "output_type": "stream",
     "text": [
      "F(0) =  0\n",
      "F(1) =  1\n",
      "F(2) =  1\n",
      "F(10)=  55\n"
     ]
    }
   ],
   "source": [
    "print('F(0) = ', Fibonacci_recursion(0))\n",
    "print('F(1) = ', Fibonacci_recursion(1))\n",
    "print('F(2) = ', Fibonacci_recursion(2))\n",
    "print('F(10)= ', Fibonacci_recursion(10))"
   ]
  }
 ],
 "metadata": {
  "kernelspec": {
   "display_name": "Python 3",
   "language": "python",
   "name": "python3"
  },
  "language_info": {
   "codemirror_mode": {
    "name": "ipython",
    "version": 3
   },
   "file_extension": ".py",
   "mimetype": "text/x-python",
   "name": "python",
   "nbconvert_exporter": "python",
   "pygments_lexer": "ipython3",
   "version": "3.8.5"
  }
 },
 "nbformat": 4,
 "nbformat_minor": 4
}
